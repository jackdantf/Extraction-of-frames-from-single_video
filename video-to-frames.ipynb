#code_shell_01
import cv2
from google.colab import drive 

#code_shell_02
drive.mount('/content/drive')

#code_shell_03
video_path = '/content/drive/MyDrive/your_path/vidoe.mp4'   ## add any extention of video (.mp4,.mov,.mkv,.webm etc)

#code_shell_04
video = cv2.VideoCapture(video_path)
success = True
count = 1
while success:
  success,frame = video.read()
  name = '/content/drive/MyDrive/your_path/'+str(count)+'.jpg'
  if success == True:
    cv2.imwrite(name,frame)
    print('Frame {} Extracted Successfully'.format(count))
    count = count+1
  else:
    break
     
